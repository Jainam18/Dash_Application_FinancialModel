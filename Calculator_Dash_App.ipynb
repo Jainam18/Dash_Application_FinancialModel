{
  "cells": [
    {
      "cell_type": "code",
      "execution_count": 1,
      "id": "4EXtkA-aDB9i",
      "metadata": {
        "colab": {
          "base_uri": "https://localhost:8080/"
        },
        "id": "4EXtkA-aDB9i",
        "outputId": "b4df2a6a-55a2-450d-de14-ddf92c15b760"
      },
      "outputs": [
        {
          "name": "stdout",
          "output_type": "stream",
          "text": [
            "Requirement already satisfied: dash in c:\\users\\jainam\\anaconda3\\lib\\site-packages (2.7.0)\n",
            "Requirement already satisfied: Flask>=1.0.4 in c:\\users\\jainam\\anaconda3\\lib\\site-packages (from dash) (1.1.2)\n",
            "Requirement already satisfied: dash-html-components==2.0.0 in c:\\users\\jainam\\anaconda3\\lib\\site-packages (from dash) (2.0.0)\n",
            "Requirement already satisfied: dash-core-components==2.0.0 in c:\\users\\jainam\\anaconda3\\lib\\site-packages (from dash) (2.0.0)\n",
            "Requirement already satisfied: plotly>=5.0.0 in c:\\users\\jainam\\anaconda3\\lib\\site-packages (from dash) (5.11.0)\n",
            "Requirement already satisfied: dash-table==5.0.0 in c:\\users\\jainam\\anaconda3\\lib\\site-packages (from dash) (5.0.0)\n",
            "Requirement already satisfied: Jinja2>=2.10.1 in c:\\users\\jainam\\anaconda3\\lib\\site-packages (from Flask>=1.0.4->dash) (2.11.3)\n",
            "Requirement already satisfied: Werkzeug>=0.15 in c:\\users\\jainam\\anaconda3\\lib\\site-packages (from Flask>=1.0.4->dash) (2.0.2)\n",
            "Requirement already satisfied: itsdangerous>=0.24 in c:\\users\\jainam\\anaconda3\\lib\\site-packages (from Flask>=1.0.4->dash) (2.0.1)\n",
            "Requirement already satisfied: click>=5.1 in c:\\users\\jainam\\anaconda3\\lib\\site-packages (from Flask>=1.0.4->dash) (8.0.3)\n",
            "Requirement already satisfied: tenacity>=6.2.0 in c:\\users\\jainam\\anaconda3\\lib\\site-packages (from plotly>=5.0.0->dash) (8.1.0)\n",
            "Requirement already satisfied: colorama in c:\\users\\jainam\\anaconda3\\lib\\site-packages (from click>=5.1->Flask>=1.0.4->dash) (0.4.4)\n",
            "Requirement already satisfied: MarkupSafe>=0.23 in c:\\users\\jainam\\anaconda3\\lib\\site-packages (from Jinja2>=2.10.1->Flask>=1.0.4->dash) (2.0.1)\n",
            "Note: you may need to restart the kernel to use updated packages.\n"
          ]
        }
      ],
      "source": [
        "pip install dash"
      ]
    },
    {
      "cell_type": "code",
      "execution_count": 2,
      "id": "Z0AuXU3JDQW5",
      "metadata": {
        "colab": {
          "base_uri": "https://localhost:8080/"
        },
        "id": "Z0AuXU3JDQW5",
        "outputId": "84432237-1f01-4ef7-c585-a775ef0eb98f"
      },
      "outputs": [
        {
          "name": "stdout",
          "output_type": "stream",
          "text": [
            "Requirement already satisfied: dash-bootstrap-components in c:\\users\\jainam\\anaconda3\\lib\\site-packages (1.2.1)Note: you may need to restart the kernel to use updated packages.\n",
            "Requirement already satisfied: dash>=2.0.0 in c:\\users\\jainam\\anaconda3\\lib\\site-packages (from dash-bootstrap-components) (2.7.0)\n",
            "Requirement already satisfied: dash-html-components==2.0.0 in c:\\users\\jainam\\anaconda3\\lib\\site-packages (from dash>=2.0.0->dash-bootstrap-components) (2.0.0)\n",
            "Requirement already satisfied: plotly>=5.0.0 in c:\\users\\jainam\\anaconda3\\lib\\site-packages (from dash>=2.0.0->dash-bootstrap-components) (5.11.0)\n",
            "Requirement already satisfied: Flask>=1.0.4 in c:\\users\\jainam\\anaconda3\\lib\\site-packages (from dash>=2.0.0->dash-bootstrap-components) (1.1.2)\n",
            "Requirement already satisfied: dash-core-components==2.0.0 in c:\\users\\jainam\\anaconda3\\lib\\site-packages (from dash>=2.0.0->dash-bootstrap-components) (2.0.0)\n",
            "Requirement already satisfied: dash-table==5.0.0 in c:\\users\\jainam\\anaconda3\\lib\\site-packages (from dash>=2.0.0->dash-bootstrap-components) (5.0.0)\n",
            "Requirement already satisfied: itsdangerous>=0.24 in c:\\users\\jainam\\anaconda3\\lib\\site-packages (from Flask>=1.0.4->dash>=2.0.0->dash-bootstrap-components) (2.0.1)\n",
            "Requirement already satisfied: Werkzeug>=0.15 in c:\\users\\jainam\\anaconda3\\lib\\site-packages (from Flask>=1.0.4->dash>=2.0.0->dash-bootstrap-components) (2.0.2)\n",
            "Requirement already satisfied: click>=5.1 in c:\\users\\jainam\\anaconda3\\lib\\site-packages (from Flask>=1.0.4->dash>=2.0.0->dash-bootstrap-components) (8.0.3)\n",
            "Requirement already satisfied: Jinja2>=2.10.1 in c:\\users\\jainam\\anaconda3\\lib\\site-packages (from Flask>=1.0.4->dash>=2.0.0->dash-bootstrap-components) (2.11.3)\n",
            "Requirement already satisfied: tenacity>=6.2.0 in c:\\users\\jainam\\anaconda3\\lib\\site-packages (from plotly>=5.0.0->dash>=2.0.0->dash-bootstrap-components) (8.1.0)\n",
            "Requirement already satisfied: colorama in c:\\users\\jainam\\anaconda3\\lib\\site-packages (from click>=5.1->Flask>=1.0.4->dash>=2.0.0->dash-bootstrap-components) (0.4.4)\n",
            "Requirement already satisfied: MarkupSafe>=0.23 in c:\\users\\jainam\\anaconda3\\lib\\site-packages (from Jinja2>=2.10.1->Flask>=1.0.4->dash>=2.0.0->dash-bootstrap-components) (2.0.1)\n",
            "\n"
          ]
        }
      ],
      "source": [
        "pip install dash-bootstrap-components"
      ]
    },
    {
      "cell_type": "code",
      "execution_count": 3,
      "id": "0d4ca946",
      "metadata": {
        "id": "0d4ca946"
      },
      "outputs": [],
      "source": [
        "import dash\n",
        "from dash import dcc\n",
        "from dash import html\n",
        "import plotly.express as px\n",
        "import pandas as pd\n",
        "import dash_bootstrap_components as dbc\n",
        "from dash.dependencies import Input, Output"
      ]
    },
    {
      "cell_type": "code",
      "execution_count": 4,
      "id": "58ca19d8",
      "metadata": {
        "colab": {
          "base_uri": "https://localhost:8080/",
          "height": 394
        },
        "id": "58ca19d8",
        "outputId": "12eddbc2-923c-4f31-fb58-40851675b4ce"
      },
      "outputs": [
        {
          "data": {
            "text/html": [
              "<div>\n",
              "<style scoped>\n",
              "    .dataframe tbody tr th:only-of-type {\n",
              "        vertical-align: middle;\n",
              "    }\n",
              "\n",
              "    .dataframe tbody tr th {\n",
              "        vertical-align: top;\n",
              "    }\n",
              "\n",
              "    .dataframe thead th {\n",
              "        text-align: right;\n",
              "    }\n",
              "</style>\n",
              "<table border=\"1\" class=\"dataframe\">\n",
              "  <thead>\n",
              "    <tr style=\"text-align: right;\">\n",
              "      <th></th>\n",
              "      <th>Unnamed: 0</th>\n",
              "      <th>Position</th>\n",
              "      <th>Number of employees</th>\n",
              "      <th>Salary/month/employee</th>\n",
              "      <th>Salary/month</th>\n",
              "      <th>Salary/year/employee</th>\n",
              "      <th>Salary/year</th>\n",
              "    </tr>\n",
              "  </thead>\n",
              "  <tbody>\n",
              "    <tr>\n",
              "      <th>0</th>\n",
              "      <td>0</td>\n",
              "      <td>Manager</td>\n",
              "      <td>1</td>\n",
              "      <td>27916.67</td>\n",
              "      <td>27916.67</td>\n",
              "      <td>335000</td>\n",
              "      <td>335000</td>\n",
              "    </tr>\n",
              "    <tr>\n",
              "      <th>1</th>\n",
              "      <td>1</td>\n",
              "      <td>Video editor</td>\n",
              "      <td>1</td>\n",
              "      <td>20000.00</td>\n",
              "      <td>20000.00</td>\n",
              "      <td>240000</td>\n",
              "      <td>240000</td>\n",
              "    </tr>\n",
              "    <tr>\n",
              "      <th>2</th>\n",
              "      <td>2</td>\n",
              "      <td>Video editor(Interns)</td>\n",
              "      <td>5</td>\n",
              "      <td>1000.00</td>\n",
              "      <td>5000.00</td>\n",
              "      <td>12000</td>\n",
              "      <td>60000</td>\n",
              "    </tr>\n",
              "    <tr>\n",
              "      <th>3</th>\n",
              "      <td>3</td>\n",
              "      <td>Contingency team(Video Editing)</td>\n",
              "      <td>3</td>\n",
              "      <td>1000.00</td>\n",
              "      <td>3000.00</td>\n",
              "      <td>12000</td>\n",
              "      <td>36000</td>\n",
              "    </tr>\n",
              "    <tr>\n",
              "      <th>4</th>\n",
              "      <td>4</td>\n",
              "      <td>Content designer</td>\n",
              "      <td>1</td>\n",
              "      <td>20833.33</td>\n",
              "      <td>20833.33</td>\n",
              "      <td>250000</td>\n",
              "      <td>250000</td>\n",
              "    </tr>\n",
              "    <tr>\n",
              "      <th>5</th>\n",
              "      <td>5</td>\n",
              "      <td>Content designer(Intern)</td>\n",
              "      <td>5</td>\n",
              "      <td>1000.00</td>\n",
              "      <td>5000.00</td>\n",
              "      <td>12000</td>\n",
              "      <td>60000</td>\n",
              "    </tr>\n",
              "    <tr>\n",
              "      <th>6</th>\n",
              "      <td>6</td>\n",
              "      <td>Contingency team(Content Designing)</td>\n",
              "      <td>8</td>\n",
              "      <td>1000.00</td>\n",
              "      <td>8000.00</td>\n",
              "      <td>12000</td>\n",
              "      <td>96000</td>\n",
              "    </tr>\n",
              "    <tr>\n",
              "      <th>7</th>\n",
              "      <td>7</td>\n",
              "      <td>Content writer</td>\n",
              "      <td>1</td>\n",
              "      <td>10000.00</td>\n",
              "      <td>10000.00</td>\n",
              "      <td>120000</td>\n",
              "      <td>120000</td>\n",
              "    </tr>\n",
              "    <tr>\n",
              "      <th>8</th>\n",
              "      <td>8</td>\n",
              "      <td>Content writer(Intern)</td>\n",
              "      <td>5</td>\n",
              "      <td>1000.00</td>\n",
              "      <td>5000.00</td>\n",
              "      <td>12000</td>\n",
              "      <td>60000</td>\n",
              "    </tr>\n",
              "    <tr>\n",
              "      <th>9</th>\n",
              "      <td>9</td>\n",
              "      <td>Contingency team(Content writing)</td>\n",
              "      <td>4</td>\n",
              "      <td>1000.00</td>\n",
              "      <td>4000.00</td>\n",
              "      <td>12000</td>\n",
              "      <td>48000</td>\n",
              "    </tr>\n",
              "    <tr>\n",
              "      <th>10</th>\n",
              "      <td>10</td>\n",
              "      <td>HR manager</td>\n",
              "      <td>1</td>\n",
              "      <td>25000.00</td>\n",
              "      <td>25000.00</td>\n",
              "      <td>300000</td>\n",
              "      <td>300000</td>\n",
              "    </tr>\n",
              "    <tr>\n",
              "      <th>11</th>\n",
              "      <td>11</td>\n",
              "      <td>Recruiter</td>\n",
              "      <td>3</td>\n",
              "      <td>9166.67</td>\n",
              "      <td>27500.00</td>\n",
              "      <td>110000</td>\n",
              "      <td>330000</td>\n",
              "    </tr>\n",
              "  </tbody>\n",
              "</table>\n",
              "</div>"
            ],
            "text/plain": [
              "    Unnamed: 0                             Position  Number of employees  \\\n",
              "0            0                              Manager                    1   \n",
              "1            1                         Video editor                    1   \n",
              "2            2                Video editor(Interns)                    5   \n",
              "3            3      Contingency team(Video Editing)                    3   \n",
              "4            4                     Content designer                    1   \n",
              "5            5             Content designer(Intern)                    5   \n",
              "6            6  Contingency team(Content Designing)                    8   \n",
              "7            7                       Content writer                    1   \n",
              "8            8               Content writer(Intern)                    5   \n",
              "9            9    Contingency team(Content writing)                    4   \n",
              "10          10                           HR manager                    1   \n",
              "11          11                            Recruiter                    3   \n",
              "\n",
              "    Salary/month/employee  Salary/month  Salary/year/employee  Salary/year  \n",
              "0                27916.67      27916.67                335000       335000  \n",
              "1                20000.00      20000.00                240000       240000  \n",
              "2                 1000.00       5000.00                 12000        60000  \n",
              "3                 1000.00       3000.00                 12000        36000  \n",
              "4                20833.33      20833.33                250000       250000  \n",
              "5                 1000.00       5000.00                 12000        60000  \n",
              "6                 1000.00       8000.00                 12000        96000  \n",
              "7                10000.00      10000.00                120000       120000  \n",
              "8                 1000.00       5000.00                 12000        60000  \n",
              "9                 1000.00       4000.00                 12000        48000  \n",
              "10               25000.00      25000.00                300000       300000  \n",
              "11                9166.67      27500.00                110000       330000  "
            ]
          },
          "execution_count": 4,
          "metadata": {},
          "output_type": "execute_result"
        }
      ],
      "source": [
        "df= pd.read_excel(\"CombinedData.xlsx\")\n",
        "df"
      ]
    },
    {
      "cell_type": "code",
      "execution_count": 5,
      "id": "afecf418",
      "metadata": {},
      "outputs": [],
      "source": [
        "df.drop('Unnamed: 0',inplace=True,axis=1)"
      ]
    },
    {
      "cell_type": "code",
      "execution_count": 6,
      "id": "afd69faa",
      "metadata": {},
      "outputs": [
        {
          "data": {
            "text/html": [
              "<div>\n",
              "<style scoped>\n",
              "    .dataframe tbody tr th:only-of-type {\n",
              "        vertical-align: middle;\n",
              "    }\n",
              "\n",
              "    .dataframe tbody tr th {\n",
              "        vertical-align: top;\n",
              "    }\n",
              "\n",
              "    .dataframe thead th {\n",
              "        text-align: right;\n",
              "    }\n",
              "</style>\n",
              "<table border=\"1\" class=\"dataframe\">\n",
              "  <thead>\n",
              "    <tr style=\"text-align: right;\">\n",
              "      <th></th>\n",
              "      <th>Position</th>\n",
              "      <th>Number of employees</th>\n",
              "      <th>Salary/month/employee</th>\n",
              "      <th>Salary/month</th>\n",
              "      <th>Salary/year/employee</th>\n",
              "      <th>Salary/year</th>\n",
              "    </tr>\n",
              "  </thead>\n",
              "  <tbody>\n",
              "    <tr>\n",
              "      <th>0</th>\n",
              "      <td>Manager</td>\n",
              "      <td>1</td>\n",
              "      <td>27916.67</td>\n",
              "      <td>27916.67</td>\n",
              "      <td>335000</td>\n",
              "      <td>335000</td>\n",
              "    </tr>\n",
              "    <tr>\n",
              "      <th>1</th>\n",
              "      <td>Video editor</td>\n",
              "      <td>1</td>\n",
              "      <td>20000.00</td>\n",
              "      <td>20000.00</td>\n",
              "      <td>240000</td>\n",
              "      <td>240000</td>\n",
              "    </tr>\n",
              "    <tr>\n",
              "      <th>2</th>\n",
              "      <td>Video editor(Interns)</td>\n",
              "      <td>5</td>\n",
              "      <td>1000.00</td>\n",
              "      <td>5000.00</td>\n",
              "      <td>12000</td>\n",
              "      <td>60000</td>\n",
              "    </tr>\n",
              "    <tr>\n",
              "      <th>3</th>\n",
              "      <td>Contingency team(Video Editing)</td>\n",
              "      <td>3</td>\n",
              "      <td>1000.00</td>\n",
              "      <td>3000.00</td>\n",
              "      <td>12000</td>\n",
              "      <td>36000</td>\n",
              "    </tr>\n",
              "    <tr>\n",
              "      <th>4</th>\n",
              "      <td>Content designer</td>\n",
              "      <td>1</td>\n",
              "      <td>20833.33</td>\n",
              "      <td>20833.33</td>\n",
              "      <td>250000</td>\n",
              "      <td>250000</td>\n",
              "    </tr>\n",
              "  </tbody>\n",
              "</table>\n",
              "</div>"
            ],
            "text/plain": [
              "                          Position  Number of employees  \\\n",
              "0                          Manager                    1   \n",
              "1                     Video editor                    1   \n",
              "2            Video editor(Interns)                    5   \n",
              "3  Contingency team(Video Editing)                    3   \n",
              "4                 Content designer                    1   \n",
              "\n",
              "   Salary/month/employee  Salary/month  Salary/year/employee  Salary/year  \n",
              "0               27916.67      27916.67                335000       335000  \n",
              "1               20000.00      20000.00                240000       240000  \n",
              "2                1000.00       5000.00                 12000        60000  \n",
              "3                1000.00       3000.00                 12000        36000  \n",
              "4               20833.33      20833.33                250000       250000  "
            ]
          },
          "execution_count": 6,
          "metadata": {},
          "output_type": "execute_result"
        }
      ],
      "source": [
        "df.head()"
      ]
    },
    {
      "cell_type": "code",
      "execution_count": 7,
      "id": "266872db",
      "metadata": {
        "id": "266872db"
      },
      "outputs": [],
      "source": [
        "app1=dash.Dash(__name__, external_stylesheets=[dbc.themes.BOOTSTRAP])"
      ]
    },
    {
      "cell_type": "code",
      "execution_count": 8,
      "id": "d3751afb",
      "metadata": {},
      "outputs": [
        {
          "data": {
            "text/plain": [
              "Index(['Position', 'Number of employees', 'Salary/month/employee',\n",
              "       'Salary/month', 'Salary/year/employee', 'Salary/year'],\n",
              "      dtype='object')"
            ]
          },
          "execution_count": 8,
          "metadata": {},
          "output_type": "execute_result"
        }
      ],
      "source": [
        "df.columns"
      ]
    },
    {
      "cell_type": "code",
      "execution_count": 9,
      "id": "4773efe3",
      "metadata": {
        "id": "4773efe3"
      },
      "outputs": [],
      "source": [
        "colors = {\n",
        "    'background': '#edc6f7',\n",
        "    'text': 'black'\n",
        "}\n",
        "colors2 = {\n",
        "        'background' : '#d7ffcd',\n",
        "        'text': 'black'\n",
        "    }\n",
        "\n",
        "app1.layout = html.Div(style={'backgroundColor': colors['background']}, children=[\n",
        "                html.H1(\n",
        "                    children='Dash Application',\n",
        "                    style={\n",
        "                        'textAlign': 'center',\n",
        "                        'color': colors['text'],\n",
        "                        'font_size':50\n",
        "                    }\n",
        "                ),\n",
        "                html.Br(),\n",
        "                dbc.Row([\n",
        "                    dbc.Col([\n",
        "                        html.Div(style={'width':\"60%\",'backgroundColor': colors2['background'],\"margin-left\":\"259px\"}, children=[\n",
        "                        html.P(\n",
        "                            children='Expenditure For Positions in Creatives and HR Department',\n",
        "                            style={\n",
        "                    'textAlign': 'center',\n",
        "                    'color': colors2['text'],\n",
        "                    'font_size':20,\n",
        "                    'backgroundColor': '#d7ffcd'\n",
        "                }), \n",
        "                html.Br(),\n",
        "                    html.Label(['Select Positions'],style={'font-weight': 'bold', \"text-align\": \"center\"}),\n",
        "                dcc.Dropdown(id='my_dropdown',\n",
        "                    options=[\n",
        "                            {'label': 'Manager', 'value': 'Manager'},\n",
        "                            {'label': 'Video editor', 'value': 'Video editor'},\n",
        "                            {'label': 'Video editor(Interns)', 'value': 'Video editor(Interns)'},\n",
        "                            {'label': 'Contingency team(Video Editing)\t', 'value': 'Contingency team(Video Editing)\t'},\n",
        "                            {'label': 'Content designer', 'value': 'Content designer'},\n",
        "                            {'label': 'Content designer(Intern)', 'value': 'Content designer(Intern)'},\n",
        "                            {'label': 'Contingency team(Content Designing)', 'value': 'Contingency team(Content Designing)'},\n",
        "                            {'label': 'Content writer', 'value': 'Content writer'},\n",
        "                            {'label': 'Content writer(Intern)', 'value': 'Content writer(Intern)'},\n",
        "                            {'label': 'Contingency team(Content writing)', 'value': 'Contingency team(Content writing)'},\n",
        "                            {'label': 'HR manager', 'value': 'HR manager'},\n",
        "                            {'label': 'Recruiter', 'value': 'Recruiter'}\n",
        "\n",
        "                    ],\n",
        "                    optionHeight=35,                    \n",
        "                    value='Manager',                  \n",
        "                    disabled=False,                    \n",
        "                    multi=False,                       \n",
        "                    searchable=True,                    \n",
        "                    search_value='',                    \n",
        "                    placeholder='Please select...',     \n",
        "                    clearable=True,                     \n",
        "                    style={'width':\"100%\"},             \n",
        "                    ), \n",
        "                html.Br(),\n",
        "                html.Label(['Enter the number of Employees'],style={'font-weight': 'bold', \"text-align\": \"left\"}), \n",
        "                dcc.Input(id='no_of_emp',type='number',placeholder='',style={'display':'inline-block'}),\n",
        "                html.Br(), \n",
        "                html.Label(['Calculator :'],style={'font-weight': 'bold', \"text-align\": \"center\"}),\n",
        "                html.Div(id='output_container', children=[])])],width=12),\n",
        "                html.Br()\n",
        "               \n",
        "]) ])\n",
        "@app1.callback(\n",
        "Output(component_id='output_container', component_property='children'),\n",
        "    [Input(component_id='my_dropdown',component_property='value'),\n",
        "    Input(component_id='no_of_emp',component_property='value')])\n",
        "def calculator(my_dropdown, no_of_emp):\n",
        "  data = df.copy()\n",
        "  data = data[data['Position']==my_dropdown]\n",
        "  x1=data['Salary/month/employee']\n",
        "  x2=data['Salary/year/employee'] \n",
        "  s_per_emp = x1\n",
        "  s_emp = x1*no_of_emp\n",
        "  s_per_year = x2\n",
        "  s_year = x2*no_of_emp\n",
        "  str1 = f'The Salary Per Month Per Employee is : {int(s_per_emp)},\\nSalary Per Month is: {int(s_emp)},\\nSalary Per Year Per Employee is: {int(s_per_year)},\\nSalary Per Year is : {int(s_year)}'\n",
        "#   str1 = f'''The Salary Per Month Per Employee is : {x1},\n",
        "#             Salary Per Month is: {x2*no_of_emp},\n",
        "#             Salary Per Year Per Employee is: {x3},\n",
        "#             Salary Per Year is : {x4*no_of_emp}'''\n",
        "  return str1\n",
        "#   ,x2*no_of_emp,x3*no_of_emp,x4*no_of_emp\n"
      ]
    },
    {
      "cell_type": "code",
      "execution_count": 10,
      "id": "bda95701",
      "metadata": {
        "colab": {
          "background_save": true,
          "base_uri": "https://localhost:8080/"
        },
        "id": "bda95701",
        "outputId": "0e434df8-aaa2-47c9-94a6-eced9384619c"
      },
      "outputs": [
        {
          "name": "stdout",
          "output_type": "stream",
          "text": [
            "Dash is running on http://127.0.0.1:8050/\n",
            "\n",
            " * Serving Flask app \"__main__\" (lazy loading)\n",
            " * Environment: production\n",
            "\u001b[31m   WARNING: This is a development server. Do not use it in a production deployment.\u001b[0m\n",
            "\u001b[2m   Use a production WSGI server instead.\u001b[0m\n",
            " * Debug mode: off\n"
          ]
        },
        {
          "name": "stderr",
          "output_type": "stream",
          "text": [
            " * Running on http://127.0.0.1:8050/ (Press CTRL+C to quit)\n",
            "127.0.0.1 - - [01/Dec/2022 15:17:56] \"GET / HTTP/1.1\" 200 -\n",
            "127.0.0.1 - - [01/Dec/2022 15:17:56] \"GET /_dash-dependencies HTTP/1.1\" 200 -\n",
            "127.0.0.1 - - [01/Dec/2022 15:17:56] \"GET /_dash-layout HTTP/1.1\" 200 -\n",
            "127.0.0.1 - - [01/Dec/2022 15:17:56] \"GET /_dash-component-suites/dash/dcc/async-dropdown.js HTTP/1.1\" 304 -\n"
          ]
        },
        {
          "name": "stdout",
          "output_type": "stream",
          "text": [
            "Exception on /_dash-update-component [POST]\n",
            "Traceback (most recent call last):\n",
            "  File \"c:\\Users\\JAINAM\\anaconda3\\lib\\site-packages\\flask\\app.py\", line 2447, in wsgi_app\n",
            "    response = self.full_dispatch_request()\n",
            "  File \"c:\\Users\\JAINAM\\anaconda3\\lib\\site-packages\\flask\\app.py\", line 1952, in full_dispatch_request\n",
            "    rv = self.handle_user_exception(e)\n",
            "  File \"c:\\Users\\JAINAM\\anaconda3\\lib\\site-packages\\flask\\app.py\", line 1821, in handle_user_exception\n",
            "    reraise(exc_type, exc_value, tb)\n",
            "  File \"c:\\Users\\JAINAM\\anaconda3\\lib\\site-packages\\flask\\_compat.py\", line 39, in reraise\n",
            "    raise value\n",
            "  File \"c:\\Users\\JAINAM\\anaconda3\\lib\\site-packages\\flask\\app.py\", line 1950, in full_dispatch_request\n",
            "    rv = self.dispatch_request()\n",
            "  File \"c:\\Users\\JAINAM\\anaconda3\\lib\\site-packages\\flask\\app.py\", line 1936, in dispatch_request\n",
            "    return self.view_functions[rule.endpoint](**req.view_args)\n",
            "  File \"c:\\Users\\JAINAM\\anaconda3\\lib\\site-packages\\dash\\dash.py\", line 1274, in dispatch\n",
            "    ctx.run(\n",
            "  File \"c:\\Users\\JAINAM\\anaconda3\\lib\\site-packages\\dash\\_callback.py\", line 440, in add_context\n",
            "    output_value = func(*func_args, **func_kwargs)  # %% callback invoked %%\n",
            "  File \"C:\\Users\\JAINAM\\AppData\\Local\\Temp/ipykernel_6816/1018925184.py\", line 84, in calculator\n",
            "    s_emp = x1*no_of_emp\n",
            "  File \"c:\\Users\\JAINAM\\anaconda3\\lib\\site-packages\\pandas\\core\\ops\\common.py\", line 69, in new_method\n",
            "    return method(self, other)\n",
            "  File \"c:\\Users\\JAINAM\\anaconda3\\lib\\site-packages\\pandas\\core\\arraylike.py\", line 108, in __mul__\n",
            "    return self._arith_method(other, operator.mul)\n",
            "  File \"c:\\Users\\JAINAM\\anaconda3\\lib\\site-packages\\pandas\\core\\series.py\", line 5526, in _arith_method\n",
            "    result = ops.arithmetic_op(lvalues, rvalues, op)\n",
            "  File \"c:\\Users\\JAINAM\\anaconda3\\lib\\site-packages\\pandas\\core\\ops\\array_ops.py\", line 224, in arithmetic_op\n",
            "    res_values = _na_arithmetic_op(left, right, op)\n",
            "  File \"c:\\Users\\JAINAM\\anaconda3\\lib\\site-packages\\pandas\\core\\ops\\array_ops.py\", line 166, in _na_arithmetic_op\n",
            "    result = func(left, right)\n",
            "  File \"c:\\Users\\JAINAM\\anaconda3\\lib\\site-packages\\pandas\\core\\computation\\expressions.py\", line 239, in evaluate\n",
            "    return _evaluate(op, op_str, a, b)  # type: ignore[misc]\n",
            "  File \"c:\\Users\\JAINAM\\anaconda3\\lib\\site-packages\\pandas\\core\\computation\\expressions.py\", line 128, in _evaluate_numexpr\n",
            "    result = _evaluate_standard(op, op_str, a, b)\n",
            "  File \"c:\\Users\\JAINAM\\anaconda3\\lib\\site-packages\\pandas\\core\\computation\\expressions.py\", line 69, in _evaluate_standard\n",
            "    return op(a, b)\n",
            "TypeError: unsupported operand type(s) for *: 'float' and 'NoneType'\n"
          ]
        },
        {
          "name": "stderr",
          "output_type": "stream",
          "text": [
            "127.0.0.1 - - [01/Dec/2022 15:17:56] \"POST /_dash-update-component HTTP/1.1\" 500 -\n",
            "127.0.0.1 - - [01/Dec/2022 15:17:56] \"GET /_favicon.ico?v=2.7.0 HTTP/1.1\" 200 -\n",
            "127.0.0.1 - - [01/Dec/2022 15:18:01] \"POST /_dash-update-component HTTP/1.1\" 200 -\n",
            "127.0.0.1 - - [01/Dec/2022 15:18:11] \"POST /_dash-update-component HTTP/1.1\" 200 -\n"
          ]
        },
        {
          "name": "stdout",
          "output_type": "stream",
          "text": [
            "Exception on /_dash-update-component [POST]\n",
            "Traceback (most recent call last):\n",
            "  File \"c:\\Users\\JAINAM\\anaconda3\\lib\\site-packages\\flask\\app.py\", line 2447, in wsgi_app\n",
            "    response = self.full_dispatch_request()\n",
            "  File \"c:\\Users\\JAINAM\\anaconda3\\lib\\site-packages\\flask\\app.py\", line 1952, in full_dispatch_request\n",
            "    rv = self.handle_user_exception(e)\n",
            "  File \"c:\\Users\\JAINAM\\anaconda3\\lib\\site-packages\\flask\\app.py\", line 1821, in handle_user_exception\n",
            "    reraise(exc_type, exc_value, tb)\n",
            "  File \"c:\\Users\\JAINAM\\anaconda3\\lib\\site-packages\\flask\\_compat.py\", line 39, in reraise\n",
            "    raise value\n",
            "  File \"c:\\Users\\JAINAM\\anaconda3\\lib\\site-packages\\flask\\app.py\", line 1950, in full_dispatch_request\n",
            "    rv = self.dispatch_request()\n",
            "  File \"c:\\Users\\JAINAM\\anaconda3\\lib\\site-packages\\flask\\app.py\", line 1936, in dispatch_request\n",
            "    return self.view_functions[rule.endpoint](**req.view_args)\n",
            "  File \"c:\\Users\\JAINAM\\anaconda3\\lib\\site-packages\\dash\\dash.py\", line 1274, in dispatch\n",
            "    ctx.run(\n",
            "  File \"c:\\Users\\JAINAM\\anaconda3\\lib\\site-packages\\dash\\_callback.py\", line 440, in add_context\n",
            "    output_value = func(*func_args, **func_kwargs)  # %% callback invoked %%\n",
            "  File \"C:\\Users\\JAINAM\\AppData\\Local\\Temp/ipykernel_6816/1018925184.py\", line 84, in calculator\n",
            "    s_emp = x1*no_of_emp\n",
            "  File \"c:\\Users\\JAINAM\\anaconda3\\lib\\site-packages\\pandas\\core\\ops\\common.py\", line 69, in new_method\n",
            "    return method(self, other)\n",
            "  File \"c:\\Users\\JAINAM\\anaconda3\\lib\\site-packages\\pandas\\core\\arraylike.py\", line 108, in __mul__\n",
            "    return self._arith_method(other, operator.mul)\n",
            "  File \"c:\\Users\\JAINAM\\anaconda3\\lib\\site-packages\\pandas\\core\\series.py\", line 5526, in _arith_method\n",
            "    result = ops.arithmetic_op(lvalues, rvalues, op)\n",
            "  File \"c:\\Users\\JAINAM\\anaconda3\\lib\\site-packages\\pandas\\core\\ops\\array_ops.py\", line 224, in arithmetic_op\n",
            "    res_values = _na_arithmetic_op(left, right, op)\n",
            "  File \"c:\\Users\\JAINAM\\anaconda3\\lib\\site-packages\\pandas\\core\\ops\\array_ops.py\", line 166, in _na_arithmetic_op\n",
            "    result = func(left, right)\n",
            "  File \"c:\\Users\\JAINAM\\anaconda3\\lib\\site-packages\\pandas\\core\\computation\\expressions.py\", line 239, in evaluate\n",
            "    return _evaluate(op, op_str, a, b)  # type: ignore[misc]\n",
            "  File \"c:\\Users\\JAINAM\\anaconda3\\lib\\site-packages\\pandas\\core\\computation\\expressions.py\", line 128, in _evaluate_numexpr\n",
            "    result = _evaluate_standard(op, op_str, a, b)\n",
            "  File \"c:\\Users\\JAINAM\\anaconda3\\lib\\site-packages\\pandas\\core\\computation\\expressions.py\", line 69, in _evaluate_standard\n",
            "    return op(a, b)\n",
            "TypeError: unsupported operand type(s) for *: 'float' and 'NoneType'\n"
          ]
        },
        {
          "name": "stderr",
          "output_type": "stream",
          "text": [
            "127.0.0.1 - - [01/Dec/2022 15:18:13] \"POST /_dash-update-component HTTP/1.1\" 500 -\n",
            "127.0.0.1 - - [01/Dec/2022 15:18:14] \"POST /_dash-update-component HTTP/1.1\" 200 -\n",
            "127.0.0.1 - - [01/Dec/2022 15:18:14] \"POST /_dash-update-component HTTP/1.1\" 200 -\n"
          ]
        }
      ],
      "source": [
        "if __name__==\"__main__\":\n",
        "    app1.run_server(port=8050)"
      ]
    },
    {
      "cell_type": "code",
      "execution_count": null,
      "id": "470ccd43",
      "metadata": {},
      "outputs": [],
      "source": []
    },
    {
      "cell_type": "code",
      "execution_count": null,
      "id": "fe3d1369",
      "metadata": {
        "id": "fe3d1369"
      },
      "outputs": [],
      "source": []
    },
    {
      "cell_type": "code",
      "execution_count": null,
      "id": "2435fd5d",
      "metadata": {
        "id": "2435fd5d"
      },
      "outputs": [],
      "source": []
    },
    {
      "cell_type": "code",
      "execution_count": null,
      "id": "5ac3189e",
      "metadata": {
        "id": "5ac3189e"
      },
      "outputs": [],
      "source": []
    },
    {
      "cell_type": "code",
      "execution_count": null,
      "id": "d8ff0c78",
      "metadata": {
        "id": "d8ff0c78"
      },
      "outputs": [],
      "source": []
    }
  ],
  "metadata": {
    "colab": {
      "provenance": []
    },
    "kernelspec": {
      "display_name": "Python 3.9.7 ('base')",
      "language": "python",
      "name": "python3"
    },
    "language_info": {
      "codemirror_mode": {
        "name": "ipython",
        "version": 3
      },
      "file_extension": ".py",
      "mimetype": "text/x-python",
      "name": "python",
      "nbconvert_exporter": "python",
      "pygments_lexer": "ipython3",
      "version": "3.9.7"
    },
    "vscode": {
      "interpreter": {
        "hash": "8bc3ed4f85e6c251cabf68b45cdf0fe36268d8caacfed8cfe19465792f23e959"
      }
    }
  },
  "nbformat": 4,
  "nbformat_minor": 5
}
